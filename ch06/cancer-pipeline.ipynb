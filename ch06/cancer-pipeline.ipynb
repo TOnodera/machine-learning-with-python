{
 "cells": [
  {
   "cell_type": "markdown",
   "id": "b8372ca8",
   "metadata": {},
   "source": [
    "# アルゴリズムとパイプライン"
   ]
  },
  {
   "cell_type": "code",
   "execution_count": 1,
   "id": "7a878106",
   "metadata": {},
   "outputs": [
    {
     "name": "stdout",
     "output_type": "stream",
     "text": [
      "Test set score: 0.94\n"
     ]
    }
   ],
   "source": [
    "from sklearn.svm import SVC\n",
    "from sklearn.datasets import load_breast_cancer\n",
    "from sklearn.model_selection import train_test_split\n",
    "from sklearn.preprocessing import MinMaxScaler\n",
    "\n",
    "cancer = load_breast_cancer()\n",
    "X_train, X_test, y_train, y_test = train_test_split(\n",
    "    cancer.data, cancer.target, stratify=cancer.target, random_state=0)\n",
    "\n",
    "# データの最小・最大値を0-1の範囲にスケーリング\n",
    "scater = MinMaxScaler().fit(X_train)\n",
    "\n",
    "X_train_scaled = scater.transform(X_train)\n",
    "\n",
    "svm = SVC()\n",
    "svm.fit(X_train_scaled, y_train)\n",
    "\n",
    "X_test_scaled = scater.transform(X_test)\n",
    "print(\"Test set score: {:.2f}\".format(svm.score(X_test_scaled, y_test)))"
   ]
  },
  {
   "cell_type": "markdown",
   "id": "b8c783a0",
   "metadata": {},
   "source": [
    "### パイプラインの構築"
   ]
  },
  {
   "cell_type": "code",
   "execution_count": null,
   "id": "2711d4db",
   "metadata": {},
   "outputs": [
    {
     "name": "stdout",
     "output_type": "stream",
     "text": [
      "Test set score: 0.94\n"
     ]
    }
   ],
   "source": [
    "from sklearn.pipeline import Pipeline\n",
    "\n",
    "pipe = Pipeline([\n",
    "    ('scaler', MinMaxScaler()),\n",
    "    ('svm', SVC())\n",
    "  ])\n",
    "\n",
    "pipe.fit(X_train, y_train)\n",
    "print(\"Test set score: {:.2f}\".format(pipe.score(X_test, y_test)))\n",
    "\n",
    "# 簡潔にやってくれる上に、交差検証なども簡単にできる"
   ]
  },
  {
   "cell_type": "markdown",
   "id": "d3247b99",
   "metadata": {},
   "source": [
    "### パイプラインを使った交差検証"
   ]
  },
  {
   "cell_type": "code",
   "execution_count": null,
   "id": "12f0eaf0",
   "metadata": {},
   "outputs": [],
   "source": [
    "from sklearn.model_selection import GridSearchCV\n",
    "\n",
    "param_grid = {\n",
    "    'svm__C': [0.1, 1, 10, 100],\n",
    "    'svm__gamma': [0.001, 0.01, 0.1, 1, 10, 100],\n",
    "}\n",
    "\n",
    "grid = GridSearchCV(pipe, param_grid, cv=5)\n",
    "grid.fit(X_train, y_train)\n",
    "print(\"Best cross-validation score: {:.2f}\".format(grid.best_score_))\n",
    "print(\"Test set score: {:.2f}\".format(grid.score(X_test, y_test)))\n",
    "print(\"Best parameters: {}\".format(grid.best_params_))"
   ]
  },
  {
   "cell_type": "code",
   "execution_count": null,
   "id": "14d6feb5",
   "metadata": {},
   "outputs": [],
   "source": []
  }
 ],
 "metadata": {
  "kernelspec": {
   "display_name": "Python 3",
   "language": "python",
   "name": "python3"
  },
  "language_info": {
   "codemirror_mode": {
    "name": "ipython",
    "version": 3
   },
   "file_extension": ".py",
   "mimetype": "text/x-python",
   "name": "python",
   "nbconvert_exporter": "python",
   "pygments_lexer": "ipython3",
   "version": "3.11.13"
  }
 },
 "nbformat": 4,
 "nbformat_minor": 5
}
