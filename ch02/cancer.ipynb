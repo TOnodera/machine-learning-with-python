{
 "cells": [
  {
   "cell_type": "code",
   "execution_count": 5,
   "id": "51f39650",
   "metadata": {},
   "outputs": [
    {
     "data": {
      "text/plain": [
       "dict_keys(['data', 'target', 'frame', 'target_names', 'DESCR', 'feature_names', 'filename', 'data_module'])"
      ]
     },
     "execution_count": 5,
     "metadata": {},
     "output_type": "execute_result"
    }
   ],
   "source": [
    "from sklearn.datasets import load_breast_cancer\n",
    "\n",
    "cancer = load_breast_cancer()\n",
    "\n",
    "cancer.keys()"
   ]
  },
  {
   "cell_type": "markdown",
   "id": "50075805",
   "metadata": {},
   "source": [
    "# Breast cancer Wisconsin (diagnostic) dataset  \n",
    "（乳がんウィスコンシン診断データセット）\n",
    "\n",
    "---\n",
    "\n",
    "**データセットの特性:**\n",
    "\n",
    "- インスタンス数: 569\n",
    "- 属性数: 30（数値属性、予測属性）＋クラス\n",
    "\n",
    "**属性情報:**\n",
    "- 半径 (中心から輪郭上の点までの距離の平均)\n",
    "- テクスチャ (グレースケール値の標準偏差)\n",
    "- 周長\n",
    "- 面積\n",
    "- 平滑度 (半径長の局所的変動)\n",
    "- コンパクト度 (perimeter² / area - 1.0)\n",
    "- 凹度 (輪郭における凹部分の深さの度合い)\n",
    "- 凹点数 (凹部分の数)\n",
    "- 対称性\n",
    "- フラクタル次元 (\"海岸線近似\" - 1)\n",
    "\n",
    "これらの特徴量について、「平均」「標準誤差」「Worst（最大値の平均）」を算出した結果、30特徴量となっている。  \n",
    "例: フィールド0は平均半径、フィールド10は半径の標準誤差、フィールド20はWorst半径。\n",
    "\n",
    "- クラス:\n",
    "  - WDBC-Malignant（悪性）\n",
    "  - WDBC-Benign（良性）\n",
    "\n",
    "---\n",
    "\n",
    "**要約統計量:**\n",
    "\n",
    "| 特徴量 | Min | Max |\n",
    "|--------|-----|-----|\n",
    "| radius (mean) | 6.981 | 28.11 |\n",
    "| texture (mean) | 9.71 | 39.28 |\n",
    "| perimeter (mean) | 43.79 | 188.5 |\n",
    "| area (mean) | 143.5 | 2501.0 |\n",
    "| smoothness (mean) | 0.053 | 0.163 |\n",
    "| compactness (mean) | 0.019 | 0.345 |\n",
    "| concavity (mean) | 0.0 | 0.427 |\n",
    "| concave points (mean) | 0.0 | 0.201 |\n",
    "| symmetry (mean) | 0.106 | 0.304 |\n",
    "| fractal dimension (mean) | 0.05 | 0.097 |\n",
    "| radius (SE) | 0.112 | 2.873 |\n",
    "| texture (SE) | 0.36 | 4.885 |\n",
    "| perimeter (SE) | 0.757 | 21.98 |\n",
    "| area (SE) | 6.802 | 542.2 |\n",
    "| smoothness (SE) | 0.002 | 0.031 |\n",
    "| compactness (SE) | 0.002 | 0.135 |\n",
    "| concavity (SE) | 0.0 | 0.396 |\n",
    "| concave points (SE) | 0.0 | 0.053 |\n",
    "| symmetry (SE) | 0.008 | 0.079 |\n",
    "| fractal dimension (SE) | 0.001 | 0.03 |\n",
    "| radius (worst) | 7.93 | 36.04 |\n",
    "| texture (worst) | 12.02 | 49.54 |\n",
    "| perimeter (worst) | 50.41 | 251.2 |\n",
    "| area (worst) | 185.2 | 4254.0 |\n",
    "| smoothness (worst) | 0.071 | 0.223 |\n",
    "| compactness (worst) | 0.027 | 1.058 |\n",
    "| concavity (worst) | 0.0 | 1.252 |\n",
    "| concave points (worst) | 0.0 | 0.291 |\n",
    "| symmetry (worst) | 0.156 | 0.664 |\n",
    "| fractal dimension (worst) | 0.055 | 0.208 |\n",
    "\n",
    "---\n",
    "\n",
    "**欠損値:** なし  \n",
    "**クラス分布:** 212（悪性）、357（良性）  \n",
    "\n",
    "**作成者:** Dr. William H. Wolberg, W. Nick Street, Olvi L. Mangasarian  \n",
    "**提供者:** Nick Street  \n",
    "**作成年:** 1995年11月  \n",
    "\n",
    "---\n",
    "\n",
    "このデータセットは UCI ML Breast Cancer Wisconsin (Diagnostic) datasets のコピー。  \n",
    "https://goo.gl/U2Uwz2  \n",
    "\n",
    "特徴量は、乳腫瘍の細針吸引検査（Fine Needle Aspirate: FNA）のデジタル画像から算出された。  \n",
    "細胞核の特徴を記述している。  \n",
    "\n",
    "分離平面は「Multisurface Method-Tree (MSM-T)」により得られた（線形計画法を用いた決定木構築手法）。1～4特徴量と1～3分離平面の空間での探索により選択された。  \n",
    "\n",
    "実際に使用された線形計画法は以下に記載されている：  \n",
    "- K. P. Bennett, O. L. Mangasarian: \"Robust Linear Programming Discrimination of Two Linearly Inseparable Sets\", Optimization Methods and Software 1, 1992, pp. 23-34.  \n",
    "\n",
    "UW CS ftp サーバーからも入手可能:  \n",
    "\n",
    "\n",
    "---\n",
    "\n",
    "## 参考文献\n",
    "\n",
    "- W.N. Street, W.H. Wolberg, O.L. Mangasarian.  \n",
    "  Nuclear feature extraction for breast tumor diagnosis.  \n",
    "  *IS&T/SPIE 1993 International Symposium on Electronic Imaging: Science and Technology*, Vol. 1905, pp. 861–870, San Jose, CA, 1993.\n",
    "\n",
    "- O.L. Mangasarian, W.N. Street, W.H. Wolberg.  \n",
    "  Breast cancer diagnosis and prognosis via linear programming.  \n",
    "  *Operations Research*, 43(4), pp. 570–577, July–August 1995.\n",
    "\n",
    "- W.H. Wolberg, W.N. Street, O.L. Mangasarian.  \n",
    "  Machine learning techniques to diagnose breast cancer from fine-needle aspirates.  \n",
    "  *Cancer Letters* 77 (1994), pp. 163–171.\n"
   ]
  },
  {
   "cell_type": "code",
   "execution_count": 6,
   "id": "50b7884a",
   "metadata": {},
   "outputs": [
    {
     "data": {
      "text/plain": [
       "{np.str_('malignant'): np.int64(212), np.str_('benign'): np.int64(357)}"
      ]
     },
     "execution_count": 6,
     "metadata": {},
     "output_type": "execute_result"
    }
   ],
   "source": [
    "import numpy as np\n",
    "\n",
    "# クラスごとのサンプルの個数\n",
    "{n: v for n, v in zip(cancer.target_names, np.bincount(cancer.target))}"
   ]
  },
  {
   "cell_type": "code",
   "execution_count": null,
   "id": "0a3bdce3",
   "metadata": {},
   "outputs": [],
   "source": [
    "# 特徴量の名前\n",
    "cancer.feature_names"
   ]
  }
 ],
 "metadata": {
  "kernelspec": {
   "display_name": "Python 3",
   "language": "python",
   "name": "python3"
  },
  "language_info": {
   "codemirror_mode": {
    "name": "ipython",
    "version": 3
   },
   "file_extension": ".py",
   "mimetype": "text/x-python",
   "name": "python",
   "nbconvert_exporter": "python",
   "pygments_lexer": "ipython3",
   "version": "3.11.13"
  }
 },
 "nbformat": 4,
 "nbformat_minor": 5
}
