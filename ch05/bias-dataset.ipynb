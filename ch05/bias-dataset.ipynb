{
 "cells": [
  {
   "cell_type": "markdown",
   "id": "4e116379",
   "metadata": {},
   "source": [
    "# 偏ったデータセット"
   ]
  },
  {
   "cell_type": "code",
   "execution_count": 1,
   "id": "c1492d4e",
   "metadata": {},
   "outputs": [
    {
     "name": "stdout",
     "output_type": "stream",
     "text": [
      "Unique predict labels: [False]\n",
      "Test set score:  0.8955555555555555\n"
     ]
    }
   ],
   "source": [
    "from sklearn.datasets import load_digits\n",
    "from sklearn.model_selection import train_test_split\n",
    "from sklearn.dummy import DummyClassifier\n",
    "import numpy as np\n",
    "\n",
    "\n",
    "digits = load_digits()\n",
    "y = digits.target == 9\n",
    "\n",
    "X_train, X_test, y_train, y_test = train_test_split(\n",
    "    digits.data, y, random_state=0\n",
    ") \n",
    "\n",
    "dummy_majority = DummyClassifier(strategy=\"most_frequent\").fit(X_train, y_train)\n",
    "pred_most_frequent = dummy_majority.predict(X_test)\n",
    "print('Unique predict labels: {}'.format(np.unique(pred_most_frequent)))\n",
    "print('Test set score: ', dummy_majority.score(X_test, y_test))\n"
   ]
  },
  {
   "cell_type": "markdown",
   "id": "6dbdd150",
   "metadata": {},
   "source": []
  }
 ],
 "metadata": {
  "kernelspec": {
   "display_name": "Python 3",
   "language": "python",
   "name": "python3"
  },
  "language_info": {
   "codemirror_mode": {
    "name": "ipython",
    "version": 3
   },
   "file_extension": ".py",
   "mimetype": "text/x-python",
   "name": "python",
   "nbconvert_exporter": "python",
   "pygments_lexer": "ipython3",
   "version": "3.11.13"
  }
 },
 "nbformat": 4,
 "nbformat_minor": 5
}
