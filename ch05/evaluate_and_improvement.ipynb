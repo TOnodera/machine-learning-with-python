{
 "cells": [
  {
   "cell_type": "markdown",
   "id": "a87422ab",
   "metadata": {},
   "source": [
    "# モデルの評価と改良"
   ]
  },
  {
   "cell_type": "markdown",
   "id": "cfe89dd9",
   "metadata": {},
   "source": [
    "## 交差検証"
   ]
  },
  {
   "cell_type": "markdown",
   "id": "c7e2f2db",
   "metadata": {},
   "source": [
    "### 交差検証のsklearnでの実装例"
   ]
  },
  {
   "cell_type": "code",
   "execution_count": 26,
   "id": "110374f0",
   "metadata": {},
   "outputs": [
    {
     "name": "stdout",
     "output_type": "stream",
     "text": [
      "Cross-validation scores: [0.98 0.96 0.98]\n"
     ]
    }
   ],
   "source": [
    "from sklearn.model_selection import cross_val_score\n",
    "from sklearn.datasets import load_iris\n",
    "from sklearn.linear_model import LogisticRegression \n",
    "\n",
    "iris = load_iris()\n",
    "logreg = LogisticRegression(max_iter=2000)\n",
    "\n",
    "scores = cross_val_score(logreg, iris.data, iris.target, cv=3)\n",
    "\n",
    "print(\"Cross-validation scores:\", scores)"
   ]
  },
  {
   "cell_type": "markdown",
   "id": "03329542",
   "metadata": {},
   "source": [
    "#### 交差検証のより詳細な制御\n",
    "- 回帰・・・ｋ分割交差検証\n",
    "- 分類・・・層化k分割交差検証（分割後のクラスの分類比率を元のデータと同じに保つ）"
   ]
  }
 ],
 "metadata": {
  "kernelspec": {
   "display_name": "Python 3",
   "language": "python",
   "name": "python3"
  },
  "language_info": {
   "codemirror_mode": {
    "name": "ipython",
    "version": 3
   },
   "file_extension": ".py",
   "mimetype": "text/x-python",
   "name": "python",
   "nbconvert_exporter": "python",
   "pygments_lexer": "ipython3",
   "version": "3.11.13"
  }
 },
 "nbformat": 4,
 "nbformat_minor": 5
}
